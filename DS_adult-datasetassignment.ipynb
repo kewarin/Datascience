{
 "cells": [
  {
   "cell_type": "markdown",
   "metadata": {
    "_uuid": "998fc5f76227ab1df9460a7b05c508304b14b3a6"
   },
   "source": [
    "# <center> Assignment #1\n",
    "## <center>  Exploratory data analysis with Pandas\n"
   ]
  },
  {
   "cell_type": "markdown",
   "metadata": {
    "_uuid": "89ef93231815456f4e0bc5dcc00b094aee800993"
   },
   "source": [
    "**In this task you should use Pandas to answer a few questions about the [Adult](https://archive.ics.uci.edu/ml/datasets/Adult) dataset. **"
   ]
  },
  {
   "cell_type": "markdown",
   "metadata": {
    "_uuid": "c322301ac858c748f8f80e63cf6f734fc70dde30"
   },
   "source": [
    "Unique values of all features (for more information, please see the links above):\n",
    "- `age`: continuous.\n",
    "- `workclass`: Private, Self-emp-not-inc, Self-emp-inc, Federal-gov, Local-gov, State-gov, Without-pay, Never-worked.\n",
    "- `fnlwgt`: continuous.\n",
    "- `education`: Bachelors, Some-college, 11th, HS-grad, Prof-school, Assoc-acdm, Assoc-voc, 9th, 7th-8th, 12th, Masters, 1st-4th, 10th, Doctorate, 5th-6th, Preschool.\n",
    "- `education-num`: continuous.\n",
    "- `marital-status`: Married-civ-spouse, Divorced, Never-married, Separated, Widowed, Married-spouse-absent, Married-AF-spouse.\n",
    "- `occupation`: Tech-support, Craft-repair, Other-service, Sales, Exec-managerial, Prof-specialty, Handlers-cleaners, Machine-op-inspct, Adm-clerical, Farming-fishing, Transport-moving, Priv-house-serv, Protective-serv, Armed-Forces.\n",
    "- `relationship`: Wife, Own-child, Husband, Not-in-family, Other-relative, Unmarried.\n",
    "- `race`: White, Asian-Pac-Islander, Amer-Indian-Eskimo, Other, Black.\n",
    "- `sex`: Female, Male.\n",
    "- `capital-gain`: continuous.\n",
    "- `capital-loss`: continuous.\n",
    "- `hours-per-week`: continuous.\n",
    "- `native-country`: United-States, Cambodia, England, Puerto-Rico, Canada, Germany, Outlying-US(Guam-USVI-etc), India, Japan, Greece, South, China, Cuba, Iran, Honduras, Philippines, Italy, Poland, Jamaica, Vietnam, Mexico, Portugal, Ireland, France, Dominican-Republic, Laos, Ecuador, Taiwan, Haiti, Columbia, Hungary, Guatemala, Nicaragua, Scotland, Thailand, Yugoslavia, El-Salvador, Trinadad&Tobago, Peru, Hong, Holand-Netherlands.   \n",
    "- `salary`: >50K,<=50K"
   ]
  },
  {
   "cell_type": "markdown",
   "metadata": {},
   "source": [
    "# รายชื่อสมาชิก"
   ]
  },
  {
   "cell_type": "markdown",
   "metadata": {},
   "source": [
    "**นฤวดา สนธิยานนท์ 62090500431**"
   ]
  },
  {
   "cell_type": "markdown",
   "metadata": {},
   "source": [
    "**อภิชญา  จิไธสง 62090500442**"
   ]
  },
  {
   "cell_type": "markdown",
   "metadata": {},
   "source": [
    "**เกวรินทร์ เจดีย์สถาน  62090500444**"
   ]
  },
  {
   "cell_type": "markdown",
   "metadata": {},
   "source": [
    "**โยษิตา พรศิริอนันต์ 62090500448**"
   ]
  },
  {
   "cell_type": "code",
   "execution_count": 2,
   "metadata": {
    "_uuid": "d3eb2411e23b7db11e4cbbb498a42752442a6f4c"
   },
   "outputs": [],
   "source": [
    "import pandas as pd"
   ]
  },
  {
   "cell_type": "code",
   "execution_count": 3,
   "metadata": {
    "_uuid": "c5119d1b8151029b4ff57735c4279b795ae492a2"
   },
   "outputs": [],
   "source": [
    "data = pd.read_csv('adult.data.csv')"
   ]
  },
  {
   "cell_type": "markdown",
   "metadata": {
    "_uuid": "6b19853f936853d40971b56f4d298ab55ee78cac"
   },
   "source": [
    "**1. How many men and women (*sex* feature) are represented in this dataset?** "
   ]
  },
  {
   "cell_type": "code",
   "execution_count": 50,
   "metadata": {
    "_uuid": "d32cafcbe966dbdfa40c3017d16d6f8c96bfb3e2"
   },
   "outputs": [
    {
     "data": {
      "text/plain": [
       "Male      21790\n",
       "Female    10771\n",
       "Name: sex, dtype: int64"
      ]
     },
     "execution_count": 50,
     "metadata": {},
     "output_type": "execute_result"
    }
   ],
   "source": [
    "data [ 'sex' ].value_counts() # ใช้คำสั่ง value_counts() เพื่อแยกนับจำนวนข้อมูลแต่ละประเภทที่อยู่ภายใน column เดียวกัน"
   ]
  },
  {
   "cell_type": "markdown",
   "metadata": {
    "_uuid": "4748793234a5d325ea60d13331ecf93e29774523"
   },
   "source": [
    "**2. What is the average age (*age* feature) of women?**"
   ]
  },
  {
   "cell_type": "code",
   "execution_count": 47,
   "metadata": {
    "_uuid": "64f60d928855107d8980875656dcdf3587d91646"
   },
   "outputs": [
    {
     "data": {
      "text/plain": [
       "36.85823043357163"
      ]
     },
     "execution_count": 47,
     "metadata": {},
     "output_type": "execute_result"
    }
   ],
   "source": [
    "data.loc[ data['sex'] == 'Female', 'age'].mean() # ใช้คำสั่ง .loc ในการดึงข้อมูลจากชื่อชอง index และใข้คำสั่ง .mean() ในการหาค่าเฉลี่ย"
   ]
  },
  {
   "cell_type": "markdown",
   "metadata": {
    "_uuid": "80e87c421c348067e88769c64e554206c51727d1"
   },
   "source": [
    "**3. What is the percentage of German citizens (*native-country* feature)?**"
   ]
  },
  {
   "cell_type": "code",
   "execution_count": 73,
   "metadata": {
    "_uuid": "ca9807509692638bd945671ed7d8b4a5ad1f3626"
   },
   "outputs": [
    {
     "data": {
      "text/plain": [
       "0.42074874850281013"
      ]
     },
     "execution_count": 73,
     "metadata": {},
     "output_type": "execute_result"
    }
   ],
   "source": [
    "(data['native-country'] == 'Germany').sum() / len(data) * 100  # ( จำนวนประชากรที่เป็นเยอรมันทั้งหมด / จำนวนประชากรทั้งหมด โดยใช้คำสั่ง len(data) ) * 100 เพื่อตอบเป็น % "
   ]
  },
  {
   "cell_type": "markdown",
   "metadata": {
    "_uuid": "be9911cf525df4fca2c1d14b8720bc8a82f462e7"
   },
   "source": [
    "**4-5. What are the mean and standard deviation of age for those who earn more than 50K per year (*salary* feature) and those who earn less than 50K per year?**"
   ]
  },
  {
   "cell_type": "code",
   "execution_count": 184,
   "metadata": {
    "_uuid": "97948f0115f949913d211627151b5605bcd204fd",
    "tags": []
   },
   "outputs": [
    {
     "name": "stdout",
     "output_type": "stream",
     "text": [
      "The mean and standard deviation of age for those who earn more than 50K per year : 44.25 and 10.52 \n",
      "The mean and standard deviation of age for those who earn less than 50K per year : 36.78 and 14.02\n"
     ]
    }
   ],
   "source": [
    "data_1 = data.loc[ data['salary'] == '>50K', 'age'].mean()    # ใข้คำสั่ง .mean() ในการหาค่าเฉลี่ย\n",
    "data_2 = data.loc[ data['salary'] == '<=50K', 'age'].mean()\n",
    "\n",
    "data_1_std = data.loc[ data['salary'] == '>50K', 'age'].std() # ใช้คำสั่ง .std() เพื่อหาค่าส่วนเบี่ยงเบนมาตรฐาน (sd)\n",
    "data_2_std = data.loc[ data['salary'] == '<=50K', 'age'].std()\n",
    "\n",
    "print(\"The mean and standard deviation of age for those who earn more than 50K per year : %.2f\" % (data_1), \"and %.2f\" % (data_1_std), \"\\nThe mean and standard deviation of age for those who earn less than 50K per year : %.2f\" % (data_2), \"and %.2f\" % (data_2_std))"
   ]
  },
  {
   "cell_type": "markdown",
   "metadata": {
    "_uuid": "180c3fe6f8b250b877c1d86866067b80acabdb64"
   },
   "source": [
    "**6. Is it true that people who earn more than 50K have at least high school education? (*education – Bachelors, Prof-school, Assoc-acdm, Assoc-voc, Masters* or *Doctorate* feature)**"
   ]
  },
  {
   "cell_type": "code",
   "execution_count": 123,
   "metadata": {
    "_uuid": "58f38ebfa2b0e1418a6a1a680d0743697f9876a2",
    "tags": []
   },
   "outputs": [
    {
     "data": {
      "text/plain": [
       "Bachelors       2221\n",
       "HS-grad         1675\n",
       "Some-college    1387\n",
       "Masters          959\n",
       "Prof-school      423\n",
       "Assoc-voc        361\n",
       "Doctorate        306\n",
       "Assoc-acdm       265\n",
       "10th              62\n",
       "11th              60\n",
       "7th-8th           40\n",
       "12th              33\n",
       "9th               27\n",
       "5th-6th           16\n",
       "1st-4th            6\n",
       "Name: education, dtype: int64"
      ]
     },
     "execution_count": 123,
     "metadata": {},
     "output_type": "execute_result"
    }
   ],
   "source": [
    "data.loc[ data['salary'] == '>50K', 'education'].value_counts() # ไม่จริง เพราะดูจาก output ที่ได้ยังมีกลุ่มคนบางส่วนที่มีการศึกษาต่ำกว่าระดับ high school"
   ]
  },
  {
   "cell_type": "markdown",
   "metadata": {
    "_uuid": "87d6bc9ec1c230e66416ce94533ea250368009cc"
   },
   "source": [
    "**7. Display age statistics for each race (race feature) and each gender (sex feature). Use groupby() and describe(). Find the maximum age of men of Amer-Indian-Eskimo race.**"
   ]
  },
  {
   "cell_type": "code",
   "execution_count": 20,
   "metadata": {},
   "outputs": [
    {
     "name": "stdout",
     "output_type": "stream",
     "text": [
      "Amer-Indian-Eskimo Female\n",
      "count    119.000000\n",
      "mean      37.117647\n",
      "std       13.114991\n",
      "min       17.000000\n",
      "25%       27.000000\n",
      "50%       36.000000\n",
      "75%       46.000000\n",
      "max       80.000000\n",
      "Name: age, dtype: float64\n",
      "Amer-Indian-Eskimo Male\n",
      "count    192.000000\n",
      "mean      37.208333\n",
      "std       12.049563\n",
      "min       17.000000\n",
      "25%       28.000000\n",
      "50%       35.000000\n",
      "75%       45.000000\n",
      "max       82.000000\n",
      "Name: age, dtype: float64\n",
      "The Maximum age of men of Amer-Indian-Eskimo race : 82\n",
      "Asian-Pac-Islander Female\n",
      "count    346.000000\n",
      "mean      35.089595\n",
      "std       12.300845\n",
      "min       17.000000\n",
      "25%       25.000000\n",
      "50%       33.000000\n",
      "75%       43.750000\n",
      "max       75.000000\n",
      "Name: age, dtype: float64\n",
      "Asian-Pac-Islander Male\n",
      "count    693.000000\n",
      "mean      39.073593\n",
      "std       12.883944\n",
      "min       18.000000\n",
      "25%       29.000000\n",
      "50%       37.000000\n",
      "75%       46.000000\n",
      "max       90.000000\n",
      "Name: age, dtype: float64\n",
      "Black Female\n",
      "count    1555.000000\n",
      "mean       37.854019\n",
      "std        12.637197\n",
      "min        17.000000\n",
      "25%        28.000000\n",
      "50%        37.000000\n",
      "75%        46.000000\n",
      "max        90.000000\n",
      "Name: age, dtype: float64\n",
      "Black Male\n",
      "count    1569.000000\n",
      "mean       37.682600\n",
      "std        12.882612\n",
      "min        17.000000\n",
      "25%        27.000000\n",
      "50%        36.000000\n",
      "75%        46.000000\n",
      "max        90.000000\n",
      "Name: age, dtype: float64\n",
      "Other Female\n",
      "count    109.000000\n",
      "mean      31.678899\n",
      "std       11.631599\n",
      "min       17.000000\n",
      "25%       23.000000\n",
      "50%       29.000000\n",
      "75%       39.000000\n",
      "max       74.000000\n",
      "Name: age, dtype: float64\n",
      "Other Male\n",
      "count    162.000000\n",
      "mean      34.654321\n",
      "std       11.355531\n",
      "min       17.000000\n",
      "25%       26.000000\n",
      "50%       32.000000\n",
      "75%       42.000000\n",
      "max       77.000000\n",
      "Name: age, dtype: float64\n",
      "White Female\n",
      "count    8642.000000\n",
      "mean       36.811618\n",
      "std        14.329093\n",
      "min        17.000000\n",
      "25%        25.000000\n",
      "50%        35.000000\n",
      "75%        46.000000\n",
      "max        90.000000\n",
      "Name: age, dtype: float64\n",
      "White Male\n",
      "count    19174.000000\n",
      "mean        39.652498\n",
      "std         13.436029\n",
      "min         17.000000\n",
      "25%         29.000000\n",
      "50%         38.000000\n",
      "75%         49.000000\n",
      "max         90.000000\n",
      "Name: age, dtype: float64\n"
     ]
    }
   ],
   "source": [
    "for (race, sex),data1 in data.groupby(by=['race', 'sex'])['age']: # ใช้คำสั่ง .groupby ในการจัดกลุ่ม race และ sex โดยแสดงผลเป็น age\n",
    "    print(race,sex)\n",
    "    print(data1.describe())   # ใช้คำสั่ง .describe() เพื่อแสดงข้อมูลทั้งหมดที่เป็น age\n",
    "    if(race == 'Amer-Indian-Eskimo'):\n",
    "        if(sex == 'Male'):\n",
    "            print('The Maximum age of men of Amer-Indian-Eskimo race :',data1.max())\n",
    "            \n",
    "# มีการใช้คำสั่ง forเป็นการวนลูปให้แสดงข้อมูลทั้งหมดและเพิ่มเงื่อนไข if เพื่อให้หา The Maximum age of men of Amer-Indian-Eskimo race ง่ายขึ้น"
   ]
  },
  {
   "cell_type": "markdown",
   "metadata": {
    "_uuid": "19411d604b0d4337a4a048a2f0e898541f39ab76"
   },
   "source": [
    "**8. Among whom is the proportion of those who earn a lot (>50K) greater: married or single men (*marital-status* feature)? Consider as married those who have a *marital-status* starting with *Married* (Married-civ-spouse, Married-spouse-absent or Married-AF-spouse), the rest are considered bachelors.**"
   ]
  },
  {
   "cell_type": "code",
   "execution_count": 155,
   "metadata": {
    "_uuid": "5bb3a8524fcbd794707075ccf6aaf8dd0f30a3dd",
    "tags": []
   },
   "outputs": [
    {
     "data": {
      "text/plain": [
       ">50K    697\n",
       "Name: salary, dtype: int64"
      ]
     },
     "execution_count": 155,
     "metadata": {},
     "output_type": "execute_result"
    }
   ],
   "source": [
    "# ผู้ชายที่มีเงินเดือน > 50K และ สถานภาพเป็นโสด\n",
    "data.loc[ ( data['sex'] == 'Male' ) & ( data['salary']  == '>50K' ) & (data['marital-status'].isin(['Never-married', 'Separated', 'Divorced','Widowed'])), 'salary' ].value_counts() # ใช้คำสั่ง .isin ระบุองค์ประกอบในแต่ละข้อมูลว่ามีอะไรบ้าง"
   ]
  },
  {
   "cell_type": "code",
   "execution_count": 156,
   "metadata": {},
   "outputs": [
    {
     "data": {
      "text/plain": [
       ">50K    5965\n",
       "Name: salary, dtype: int64"
      ]
     },
     "execution_count": 156,
     "metadata": {},
     "output_type": "execute_result"
    }
   ],
   "source": [
    "# ผู้ชายที่มีเงินเดือน > 50K และ สถานภาพสมรสที่ขึ้นต้นด้วยสมรสแล้ว\n",
    "data.loc[ ( data['sex'] == 'Male' ) & ( data['salary']  == '>50K' ) & (data['marital-status'].str.startswith('Married')), 'salary' ].value_counts() # ใช้คำสั่ง .str.startswith เพื่อหาคำขึ้นต้นของข้อความที่ขึ้นต้นด้วยคำว่า Married"
   ]
  },
  {
   "cell_type": "code",
   "execution_count": 157,
   "metadata": {},
   "outputs": [],
   "source": [
    "# Ans : จาก output ทั้งหมดในข้อ 8 จะเห็นได้ว่าผู้ชายที่มีเงินเดือน > 50K และสถานภาพที่ขึ้นต้นว่าสมรสแล้ว มีจำนวนมากกว่าผู้ชายที่มีเงิน > 50K และสถานภาพโสด"
   ]
  },
  {
   "cell_type": "markdown",
   "metadata": {
    "_uuid": "34f2076e7d331b95a23b990372809b709d2c8183"
   },
   "source": [
    "**9. What is the maximum number of hours a person works per week (*hours-per-week* feature)? How many people work such a number of hours, and what is the percentage of those who earn a lot (>50K) among them?**"
   ]
  },
  {
   "cell_type": "code",
   "execution_count": 19,
   "metadata": {},
   "outputs": [
    {
     "name": "stdout",
     "output_type": "stream",
     "text": [
      "The maximum number of hours a person works per week : 99\n",
      "The total number of hard-working employee : 85\n",
      "The percentage of those who earn a lot (>50K) : 29.41%\n"
     ]
    }
   ],
   "source": [
    "time_max = data['hours-per-week'].max()  # ใช้คำสั่ง .max() เพื่อหาค่าสูงสุดของ hours-per-week column  \n",
    "print('The maximum number of hours a person works per week :', time_max) \n",
    "\n",
    "num_employee = len(data[data['hours-per-week'] == time_max])  \n",
    "print('The total number of hard-working employee :', num_employee)\n",
    "\n",
    "work_alot = (data[(data['hours-per-week'] == time_max) & (data['salary'] == '>50K')].shape[0]) / num_employee  # ใช้คำสั่ง shape[0] เพื่อบอกจำนวน row ทั้งหมดของเงื่อนไขนั้นๆ\n",
    "print('The percentage of those who earn a lot (>50K) : %.2f' % (100 * work_alot) + '%')"
   ]
  },
  {
   "cell_type": "markdown",
   "metadata": {
    "_uuid": "d539d4d137fac1c5ea25bc516188eb657d67e9b4"
   },
   "source": [
    "**10. Count the average time of work (*hours-per-week*) for those who earn a little and a lot (*salary*) for each country (*native-country*). What will these be for Japan?**"
   ]
  },
  {
   "cell_type": "code",
   "execution_count": 18,
   "metadata": {},
   "outputs": [
    {
     "name": "stdout",
     "output_type": "stream",
     "text": [
      "Japan <=50K 41.0\n",
      "Japan >50K 47.958333333333336\n"
     ]
    }
   ],
   "source": [
    "for (country, salary), data1 in data.groupby(['native-country', 'salary']): # ใช้คำสั่ง .groupby ในการจัดกลุ่ม native-country และ salary \n",
    "    if(country == 'Japan'): # ใช้คำสั่ง if เพื่อกำหนด country ให้เป็น Japan เท่านั้น                                                \n",
    "        print(country,salary, data1['hours-per-week'].mean())"
   ]
  }
 ],
 "metadata": {
  "anaconda-cloud": {},
  "kernelspec": {
   "display_name": "Python 3 (ipykernel)",
   "language": "python",
   "name": "python3"
  },
  "language_info": {
   "codemirror_mode": {
    "name": "ipython",
    "version": 3
   },
   "file_extension": ".py",
   "mimetype": "text/x-python",
   "name": "python",
   "nbconvert_exporter": "python",
   "pygments_lexer": "ipython3",
   "version": "3.9.7"
  }
 },
 "nbformat": 4,
 "nbformat_minor": 4
}
